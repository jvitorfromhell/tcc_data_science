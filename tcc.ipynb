{
 "cells": [
  {
   "cell_type": "code",
   "execution_count": 1,
   "id": "e10b6efb",
   "metadata": {},
   "outputs": [],
   "source": [
    "#  Setup do ambiente\n",
    "\n",
    "import pandas as pd\n",
    "import numpy as np"
   ]
  },
  {
   "cell_type": "code",
   "execution_count": 52,
   "id": "d17f768d",
   "metadata": {},
   "outputs": [],
   "source": [
    "# Carregar datasets\n",
    "base_dir = 'datasets/'\n",
    "\n",
    "nba_2018_2019 = pd.read_csv(base_dir + '2018_2019.csv')\n",
    "nba_2019_2020 = pd.read_csv(base_dir + '2019_2020.csv')\n",
    "nba_2020_2021 = pd.read_csv(base_dir + '2020_2021.csv')\n",
    "\n",
    "wnba_2018 = pd.read_csv(base_dir + 'w2018.csv')\n",
    "wnba_2019 = pd.read_csv(base_dir + 'w2019.csv')\n",
    "wnba_2020 = pd.read_csv(base_dir + 'w2020.csv')"
   ]
  },
  {
   "cell_type": "markdown",
   "id": "66bed37b",
   "metadata": {},
   "source": [
    "# Explorar datasets"
   ]
  },
  {
   "cell_type": "code",
   "execution_count": 54,
   "id": "3f49352c",
   "metadata": {},
   "outputs": [
    {
     "name": "stdout",
     "output_type": "stream",
     "text": [
      "Index(['Rk', 'Player', 'Pos', 'Age', 'Tm', 'G', 'GS', 'MP', 'FG', 'FGA', 'FG%',\n",
      "       '3P', '3PA', '3P%', '2P', '2PA', '2P%', 'FT', 'FTA', 'FT%', 'ORB',\n",
      "       'DRB', 'TRB', 'AST', 'STL', 'BLK', 'TOV', 'PF', 'PTS', 'Unnamed: 29',\n",
      "       'ORtg', 'DRtg'],\n",
      "      dtype='object')\n",
      "Index(['Rk', 'Player', 'Pos', 'Age', 'Tm', 'G', 'GS', 'MP', 'FG', 'FGA', 'FG%',\n",
      "       '3P', '3PA', '3P%', '2P', '2PA', '2P%', 'FT', 'FTA', 'FT%', 'ORB',\n",
      "       'DRB', 'TRB', 'AST', 'STL', 'BLK', 'TOV', 'PF', 'PTS', 'Unnamed: 29',\n",
      "       'ORtg', 'DRtg'],\n",
      "      dtype='object')\n",
      "Index(['Rk', 'Player', 'Pos', 'Age', 'Tm', 'G', 'GS', 'MP', 'FG', 'FGA', 'FG%',\n",
      "       '3P', '3PA', '3P%', '2P', '2PA', '2P%', 'FT', 'FTA', 'FT%', 'ORB',\n",
      "       'DRB', 'TRB', 'AST', 'STL', 'BLK', 'TOV', 'PF', 'PTS', 'Unnamed: 29',\n",
      "       'ORtg', 'DRtg'],\n",
      "      dtype='object')\n",
      "Index(['Player', 'Team', 'Pos', 'G', 'MP', 'G.1', 'GS', 'MP.1', 'FG', 'FGA',\n",
      "       'FG%', '3P', '3PA', '3P%', '2P', '2PA', '2P%', 'FT', 'FTA', 'FT%',\n",
      "       'ORB', 'TRB', 'AST', 'STL', 'BLK', 'TOV', 'PF', 'PTS'],\n",
      "      dtype='object')\n",
      "Index(['Player', 'Team', 'Pos', 'G', 'MP', 'G.1', 'GS', 'MP.1', 'FG', 'FGA',\n",
      "       'FG%', '3P', '3PA', '3P%', '2P', '2PA', '2P%', 'FT', 'FTA', 'FT%',\n",
      "       'ORB', 'TRB', 'AST', 'STL', 'BLK', 'TOV', 'PF', 'PTS'],\n",
      "      dtype='object')\n",
      "Index(['Player', 'Team', 'Pos', 'G', 'MP', 'G.1', 'GS', 'MP.1', 'FG', 'FGA',\n",
      "       'FG%', '3P', '3PA', '3P%', '2P', '2PA', '2P%', 'FT', 'FTA', 'FT%',\n",
      "       'ORB', 'TRB', 'AST', 'STL', 'BLK', 'TOV', 'PF', 'PTS'],\n",
      "      dtype='object')\n"
     ]
    }
   ],
   "source": [
    "# Verificar colunas pra procurar inconsistencias ou dados erroneos\n",
    "\n",
    "print(nba_2018_2019.columns)\n",
    "print(nba_2019_2020.columns)\n",
    "print(nba_2020_2021.columns)\n",
    "print(wnba_2018.columns)\n",
    "print(wnba_2019.columns)\n",
    "print(wnba_2020.columns)\n",
    "\n",
    "# Datastes da NBA tem uma coluna de sujeira (Unnamed: 29) que sera removida na sessao de limpeza dos dados"
   ]
  },
  {
   "cell_type": "code",
   "execution_count": 51,
   "id": "c2c0dc92",
   "metadata": {},
   "outputs": [],
   "source": [
    "# Limpeza de dados\n",
    "\n",
    "# Remover entradas duplicadas\n",
    "## Alguns jogadores jogaram por mais de um time em cada temporada, portanto tem mais de uma entrada na tabela \n",
    "## Ja existe uma entrada com os dados agregados para os mesmos, quando a coluna Tm == TOT\n",
    "## Portanto, para analisar o jogador independente do time deixamos somente a agregada para eles\n",
    "def remove_duplicate_players(dataset):\n",
    "    duplicated_player = dataset.duplicated(subset=['Player'])\n",
    "    aggregated_data = dataset['Tm'] == 'TOT' \n",
    "    \n",
    "    return dataset.drop(dataset[duplicated_player & (-aggregated_data)].index)\n",
    "\n",
    "# Remover coluna de um dataset\n",
    "def remove_column(dataset, column_name):\n",
    "    return dataset.drop(column_name, axis=1)"
   ]
  },
  {
   "cell_type": "code",
   "execution_count": null,
   "id": "003d3b17",
   "metadata": {},
   "outputs": [],
   "source": []
  },
  {
   "cell_type": "code",
   "execution_count": null,
   "id": "dbe55556",
   "metadata": {},
   "outputs": [],
   "source": []
  }
 ],
 "metadata": {
  "kernelspec": {
   "display_name": "Python 3 (ipykernel)",
   "language": "python",
   "name": "python3"
  },
  "language_info": {
   "codemirror_mode": {
    "name": "ipython",
    "version": 3
   },
   "file_extension": ".py",
   "mimetype": "text/x-python",
   "name": "python",
   "nbconvert_exporter": "python",
   "pygments_lexer": "ipython3",
   "version": "3.8.5"
  }
 },
 "nbformat": 4,
 "nbformat_minor": 5
}
