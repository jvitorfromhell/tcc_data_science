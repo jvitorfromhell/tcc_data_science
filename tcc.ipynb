{
 "cells": [
  {
   "cell_type": "code",
   "execution_count": 1,
   "id": "cb81e421",
   "metadata": {},
   "outputs": [],
   "source": [
    "#  Setup do ambiente\n",
    "\n",
    "import pandas as pd\n",
    "import numpy as np"
   ]
  },
  {
   "cell_type": "code",
   "execution_count": 5,
   "id": "2302b63d",
   "metadata": {},
   "outputs": [],
   "source": [
    "# Carregar datasets\n",
    "base_dir = 'datasets/'\n",
    "\n",
    "nba_2018_2019 = pd.read_csv(base_dir + '2018_2019.csv')\n",
    "nba_2019_2020 = pd.read_csv(base_dir + '2019_2020.csv')\n",
    "nba_2020_2021 = pd.read_csv(base_dir + '2020_2021.csv')\n",
    "\n",
    "wnba_2018 = pd.read_csv(base_dir + 'w2018.csv')\n",
    "wnba_2019 = pd.read_csv(base_dir + 'w2019.csv')\n",
    "wnba_2020 = pd.read_csv(base_dir + 'w2020.csv')"
   ]
  }
 ],
 "metadata": {
  "kernelspec": {
   "display_name": "Python 3 (ipykernel)",
   "language": "python",
   "name": "python3"
  },
  "language_info": {
   "codemirror_mode": {
    "name": "ipython",
    "version": 3
   },
   "file_extension": ".py",
   "mimetype": "text/x-python",
   "name": "python",
   "nbconvert_exporter": "python",
   "pygments_lexer": "ipython3",
   "version": "3.8.5"
  }
 },
 "nbformat": 4,
 "nbformat_minor": 5
}
